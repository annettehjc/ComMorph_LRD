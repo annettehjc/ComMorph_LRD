{
 "cells": [
  {
   "cell_type": "markdown",
   "id": "02d0142b",
   "metadata": {},
   "source": [
    "To process the data in *jejueo_interview_ts* dataset. The files are in the format of github lfs. "
   ]
  },
  {
   "cell_type": "code",
   "execution_count": 2,
   "id": "79418dfd",
   "metadata": {},
   "outputs": [
    {
     "name": "stderr",
     "output_type": "stream",
     "text": [
      "/Users/annette/Desktop/Germany/U_of_Tuebingen/4th-Semester(SS24)/Computational Morphology/project/ComMorph_LRD/.venv/lib/python3.10/site-packages/tqdm/auto.py:21: TqdmWarning: IProgress not found. Please update jupyter and ipywidgets. See https://ipywidgets.readthedocs.io/en/stable/user_install.html\n",
      "  from .autonotebook import tqdm as notebook_tqdm\n"
     ]
    },
    {
     "data": {
      "text/html": [
       "<div>\n",
       "<style scoped>\n",
       "    .dataframe tbody tr th:only-of-type {\n",
       "        vertical-align: middle;\n",
       "    }\n",
       "\n",
       "    .dataframe tbody tr th {\n",
       "        vertical-align: top;\n",
       "    }\n",
       "\n",
       "    .dataframe thead th {\n",
       "        text-align: right;\n",
       "    }\n",
       "</style>\n",
       "<table border=\"1\" class=\"dataframe\">\n",
       "  <thead>\n",
       "    <tr style=\"text-align: right;\">\n",
       "      <th></th>\n",
       "      <th>ko</th>\n",
       "      <th>je</th>\n",
       "    </tr>\n",
       "  </thead>\n",
       "  <tbody>\n",
       "    <tr>\n",
       "      <th>0</th>\n",
       "      <td>그렇게 하면 이제 그것에 같이 씨에 섞어지면 거름에 다 밟을 때 밟아서 이만큼씩 이...</td>\n",
       "      <td>경ᄒᆞ민 이제 그것에 ᄀᆞ치 씨에 버물려지민 걸름에 다 ᄇᆞᆲ을 때 ᄇᆞᆲ앙 요만씩...</td>\n",
       "    </tr>\n",
       "    <tr>\n",
       "      <th>1</th>\n",
       "      <td>바느질하는 사람들도 먹고 하면 그 관 짜는 사람들도 먹고 하지 . 그래서 관에 담은...</td>\n",
       "      <td>바느질허는 사름덜도 먹곡 허민 그 관 짜는 사름덜도 먹곡 허주게 겐 관에 담은 후엔...</td>\n",
       "    </tr>\n",
       "    <tr>\n",
       "      <th>2</th>\n",
       "      <td>아 , 잔치 때도 ?</td>\n",
       "      <td>아 , 잔치 때도 ?</td>\n",
       "    </tr>\n",
       "    <tr>\n",
       "      <th>3</th>\n",
       "      <td>옛날은 육식해서 노루 , 꿩 .</td>\n",
       "      <td>옛날은 육식헤영 노리 , 꿩 .</td>\n",
       "    </tr>\n",
       "    <tr>\n",
       "      <th>4</th>\n",
       "      <td>어 . 그런 것도 가서 사 올 수 있을 때나 먹지 무슨 .</td>\n",
       "      <td>어 . 그런 것도게 강 사 오라 질 때나 먹지 무신 .</td>\n",
       "    </tr>\n",
       "    <tr>\n",
       "      <th>...</th>\n",
       "      <td>...</td>\n",
       "      <td>...</td>\n",
       "    </tr>\n",
       "    <tr>\n",
       "      <th>4995</th>\n",
       "      <td>누가 아니 ? 그러니까 다섯 상제 , 아들 다섯 개면 다섯 개 다 했었어 , 옛날 .</td>\n",
       "      <td>누게 아느냐 ? 게난 거 다섯 상제 , 아덜 다섯 개민 다섯 개 다 헤낫어 옛날</td>\n",
       "    </tr>\n",
       "    <tr>\n",
       "      <th>4996</th>\n",
       "      <td>글쎄 . 그렇게 해서 이렇게 이렇게 해서 이만씩 이만씩 거름을 해서 거기 씨 들어간...</td>\n",
       "      <td>게메이 . 경허연 영영 허연 요망썩 요망썩 걸름을 헤영 그디 씨들어강 거 영 방 벌...</td>\n",
       "    </tr>\n",
       "    <tr>\n",
       "      <th>4997</th>\n",
       "      <td>이렇게 열어서 막 죽젓개로 그냥 거 저으려고 하면 얼마나 힘들까봐 .</td>\n",
       "      <td>영 열아근에 막 남죽으로 그냥 거 젓젠 허민 얼마나 힘들카부덴 .</td>\n",
       "    </tr>\n",
       "    <tr>\n",
       "      <th>4998</th>\n",
       "      <td>밭 갈 때 밭 갈러 가려고 하면 .</td>\n",
       "      <td>밧 갈 때 밧 갈레 가젠 ᄒᆞ면은 .</td>\n",
       "    </tr>\n",
       "    <tr>\n",
       "      <th>4999</th>\n",
       "      <td>그럼 산이고 오름이고 붙어 젖히 지</td>\n",
       "      <td>게민 산이곡 오름이곡 붙어 자칩주 .</td>\n",
       "    </tr>\n",
       "  </tbody>\n",
       "</table>\n",
       "<p>5000 rows × 2 columns</p>\n",
       "</div>"
      ],
      "text/plain": [
       "                                                     ko  \\\n",
       "0     그렇게 하면 이제 그것에 같이 씨에 섞어지면 거름에 다 밟을 때 밟아서 이만큼씩 이...   \n",
       "1     바느질하는 사람들도 먹고 하면 그 관 짜는 사람들도 먹고 하지 . 그래서 관에 담은...   \n",
       "2                                           아 , 잔치 때도 ?   \n",
       "3                                     옛날은 육식해서 노루 , 꿩 .   \n",
       "4                      어 . 그런 것도 가서 사 올 수 있을 때나 먹지 무슨 .   \n",
       "...                                                 ...   \n",
       "4995    누가 아니 ? 그러니까 다섯 상제 , 아들 다섯 개면 다섯 개 다 했었어 , 옛날 .   \n",
       "4996  글쎄 . 그렇게 해서 이렇게 이렇게 해서 이만씩 이만씩 거름을 해서 거기 씨 들어간...   \n",
       "4997             이렇게 열어서 막 죽젓개로 그냥 거 저으려고 하면 얼마나 힘들까봐 .   \n",
       "4998                                밭 갈 때 밭 갈러 가려고 하면 .   \n",
       "4999                                그럼 산이고 오름이고 붙어 젖히 지   \n",
       "\n",
       "                                                     je  \n",
       "0     경ᄒᆞ민 이제 그것에 ᄀᆞ치 씨에 버물려지민 걸름에 다 ᄇᆞᆲ을 때 ᄇᆞᆲ앙 요만씩...  \n",
       "1     바느질허는 사름덜도 먹곡 허민 그 관 짜는 사름덜도 먹곡 허주게 겐 관에 담은 후엔...  \n",
       "2                                           아 , 잔치 때도 ?  \n",
       "3                                     옛날은 육식헤영 노리 , 꿩 .  \n",
       "4                        어 . 그런 것도게 강 사 오라 질 때나 먹지 무신 .  \n",
       "...                                                 ...  \n",
       "4995       누게 아느냐 ? 게난 거 다섯 상제 , 아덜 다섯 개민 다섯 개 다 헤낫어 옛날  \n",
       "4996  게메이 . 경허연 영영 허연 요망썩 요망썩 걸름을 헤영 그디 씨들어강 거 영 방 벌...  \n",
       "4997               영 열아근에 막 남죽으로 그냥 거 젓젠 허민 얼마나 힘들카부덴 .  \n",
       "4998                               밧 갈 때 밧 갈레 가젠 ᄒᆞ면은 .  \n",
       "4999                               게민 산이곡 오름이곡 붙어 자칩주 .  \n",
       "\n",
       "[5000 rows x 2 columns]"
      ]
     },
     "execution_count": 2,
     "metadata": {},
     "output_type": "execute_result"
    }
   ],
   "source": [
    "import pandas as pd\n",
    "\n",
    "splits = {'train': 'data/train-00000-of-00001.parquet', \n",
    "          'dev': 'data/dev-00000-of-00001.parquet', \n",
    "          'test': 'data/test-00000-of-00001.parquet'}\n",
    "# df = pd.read_parquet(\"hf://datasets/mickeyshoes/jejueo_interview_transcripts/\" + splits[\"train\"])\n",
    "# df\n",
    "train = pd.read_parquet(\"hf://datasets/mickeyshoes/jejueo_interview_transcripts/\" + splits[\"train\"])\n",
    "test = pd.read_parquet(\"hf://datasets/mickeyshoes/jejueo_interview_transcripts/\" + splits[\"test\"])\n",
    "dev = pd.read_parquet(\"hf://datasets/mickeyshoes/jejueo_interview_transcripts/\" + splits[\"dev\"])\n",
    "dev"
   ]
  },
  {
   "cell_type": "code",
   "execution_count": 3,
   "id": "80b48966",
   "metadata": {},
   "outputs": [],
   "source": [
    "train[['je', 'ko']].to_csv('ko_je1.tsv', sep='\\t', index=False)\n",
    "test[['je', 'ko']].to_csv('ko_je2.tsv', sep='\\t', index=False)\n",
    "dev[['je', 'ko']].to_csv('ko_je3.tsv', sep='\\t', index=False)"
   ]
  }
 ],
 "metadata": {
  "kernelspec": {
   "display_name": ".venv",
   "language": "python",
   "name": "python3"
  },
  "language_info": {
   "codemirror_mode": {
    "name": "ipython",
    "version": 3
   },
   "file_extension": ".py",
   "mimetype": "text/x-python",
   "name": "python",
   "nbconvert_exporter": "python",
   "pygments_lexer": "ipython3",
   "version": "3.10.18"
  }
 },
 "nbformat": 4,
 "nbformat_minor": 5
}
